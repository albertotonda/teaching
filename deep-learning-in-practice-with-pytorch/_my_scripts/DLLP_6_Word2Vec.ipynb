{
 "cells": [
  {
   "cell_type": "markdown",
   "id": "3d3e97d2",
   "metadata": {},
   "source": [
    "# Embeddings\n",
    "\n",
    "In this notebook, we will briefly go through a few examples of embeddings."
   ]
  },
  {
   "cell_type": "code",
   "execution_count": 1,
   "id": "74f706f9",
   "metadata": {},
   "outputs": [
    {
     "name": "stderr",
     "output_type": "stream",
     "text": [
      "C:\\Users\\Alberto\\anaconda3\\lib\\site-packages\\tqdm\\auto.py:21: TqdmWarning: IProgress not found. Please update jupyter and ipywidgets. See https://ipywidgets.readthedocs.io/en/stable/user_install.html\n",
      "  from .autonotebook import tqdm as notebook_tqdm\n"
     ]
    }
   ],
   "source": [
    "# imports\n",
    "import torch\n",
    "import datasets # this is a repository of datasets managed by HuggingFace"
   ]
  },
  {
   "cell_type": "markdown",
   "id": "770b04b5",
   "metadata": {},
   "source": [
    "## Word2Vec\n",
    "\n",
    "Word2Vec is an important stepping stone in the path towards more complex models able to manage language, the so-called Large Language Models (LLMs). The necessary first step was to create a meaningful encoding from words (discrete, dependent on context) to a semantic embedding (a vectorial space of continuous values).\n",
    "\n",
    "We will need to work on a simple data set, so let's get one where the task is to classify hate speech in Twitter posts."
   ]
  },
  {
   "cell_type": "code",
   "execution_count": 2,
   "id": "775478f3",
   "metadata": {},
   "outputs": [],
   "source": [
    "dataset = datasets.load_dataset('tweets_hate_speech_detection')"
   ]
  },
  {
   "cell_type": "markdown",
   "id": "ab92ef9c",
   "metadata": {},
   "source": [
    "## GPT-2\n",
    "In this part, we are going to try and use the GPT-2 version hosted on HuggingFace."
   ]
  },
  {
   "cell_type": "code",
   "execution_count": 3,
   "id": "b236ca1d",
   "metadata": {},
   "outputs": [
    {
     "ename": "ModuleNotFoundError",
     "evalue": "No module named 'transformers'",
     "output_type": "error",
     "traceback": [
      "\u001b[1;31m---------------------------------------------------------------------------\u001b[0m",
      "\u001b[1;31mModuleNotFoundError\u001b[0m                       Traceback (most recent call last)",
      "Cell \u001b[1;32mIn[3], line 1\u001b[0m\n\u001b[1;32m----> 1\u001b[0m \u001b[38;5;28;01mfrom\u001b[39;00m \u001b[38;5;21;01mtransformers\u001b[39;00m \u001b[38;5;28;01mimport\u001b[39;00m GPT2Config, GPT2Model\n\u001b[0;32m      2\u001b[0m configuration \u001b[38;5;241m=\u001b[39m GPT2Config()\n\u001b[0;32m      3\u001b[0m model \u001b[38;5;241m=\u001b[39m GPT2Model(configuration) \u001b[38;5;66;03m# this instantiates a model, but creates random weights\u001b[39;00m\n",
      "\u001b[1;31mModuleNotFoundError\u001b[0m: No module named 'transformers'"
     ]
    }
   ],
   "source": [
    "from transformers import GPT2Config, GPT2Model\n",
    "configuration = GPT2Config()\n",
    "model = GPT2Model(configuration) # this instantiates a model, but creates random weights\n",
    "configuration = model.config"
   ]
  },
  {
   "cell_type": "code",
   "execution_count": null,
   "id": "9b31c84e",
   "metadata": {},
   "outputs": [],
   "source": []
  }
 ],
 "metadata": {
  "kernelspec": {
   "display_name": "Python 3 (ipykernel)",
   "language": "python",
   "name": "python3"
  },
  "language_info": {
   "codemirror_mode": {
    "name": "ipython",
    "version": 3
   },
   "file_extension": ".py",
   "mimetype": "text/x-python",
   "name": "python",
   "nbconvert_exporter": "python",
   "pygments_lexer": "ipython3",
   "version": "3.10.14"
  }
 },
 "nbformat": 4,
 "nbformat_minor": 5
}
