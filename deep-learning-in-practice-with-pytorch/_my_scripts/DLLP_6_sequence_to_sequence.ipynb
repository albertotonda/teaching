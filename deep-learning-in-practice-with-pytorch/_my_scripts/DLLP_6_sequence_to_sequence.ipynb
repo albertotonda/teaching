{
 "cells": [
  {
   "cell_type": "markdown",
   "metadata": {
    "id": "3cHNqX7cOxxy"
   },
   "source": [
    "# Sequence to sequence (seq2seq)\n",
    "\n",
    "In this notebook, we are going to train an encoder/decoder architecture able to translate short sentences from English to French. First of all, we will need some data. The website https://www.manythings.org/anki/ has a beautiful data set of sentences with their corresponding translations. We are going to use a [text file in a .zip hosted by the pytorch website](https://download.pytorch.org/tutorial/data.zip), that contains pairs of sentences ENG-FRA."
   ]
  },
  {
   "cell_type": "code",
   "execution_count": 1,
   "metadata": {
    "id": "HxOTHwzzOs7e"
   },
   "outputs": [
    {
     "data": {
      "text/plain": [
       "device(type='cpu')"
      ]
     },
     "execution_count": 1,
     "metadata": {},
     "output_type": "execute_result"
    }
   ],
   "source": [
    "# usual imports, plus some text manipulation utility library\n",
    "import unicodedata\n",
    "import numpy as np\n",
    "import re\n",
    "import random\n",
    "import torch\n",
    "import torch.nn as nn\n",
    "import torch.nn.functional as F\n",
    "\n",
    "from __future__ import unicode_literals, print_function, division\n",
    "from io import open\n",
    "from torch import optim\n",
    "from torch.utils.data import TensorDataset, DataLoader, RandomSampler\n",
    "\n",
    "# check which type of computational devices are available for pytorch, and\n",
    "# set the most appropriate one\n",
    "device_name = \"cpu\"\n",
    "if torch.cuda.is_available() :\n",
    "  device_name = \"cuda\"\n",
    "elif torch.backends.mps.is_available() :\n",
    "  device_name = \"mps\"\n",
    "\n",
    "# I have issues with the GPU\n",
    "device_name = \"cpu\"\n",
    "torch.device(device_name)"
   ]
  },
  {
   "cell_type": "code",
   "execution_count": 2,
   "metadata": {
    "id": "BLoseqJIQtAc"
   },
   "outputs": [
    {
     "name": "stdout",
     "output_type": "stream",
     "text": [
      "The file contains 135842 lines! Example: \"Run!\tCourez !\n",
      "\"\n"
     ]
    }
   ],
   "source": [
    "# access a .zip file and read the content in the text file with the specified name\n",
    "url_zip = \"https://download.pytorch.org/tutorial/data.zip\"\n",
    "file_name = \"data/eng-fra.txt\"\n",
    "from io import BytesIO\n",
    "from zipfile import ZipFile\n",
    "from urllib.request import urlopen\n",
    "\n",
    "resp = urlopen(url_zip)\n",
    "myzip = ZipFile(BytesIO(resp.read()))\n",
    "file_lines = [ l.decode('utf-8') for l in myzip.open(file_name).readlines() ]\n",
    "print(\"The file contains %d lines! Example: \\\"%s\\\"\" % (len(file_lines), file_lines[2]))"
   ]
  },
  {
   "cell_type": "markdown",
   "metadata": {
    "id": "I0i9KLhFX0IF"
   },
   "source": [
    "## Pre-processing the text file\n",
    "\n",
    "Working on language requires a rather bothersome part of pre-processing, performing tasks such as ensuring that all characters are using the same encoding (like ASCII or UTF-8), removing endlines '\\n' and other special characters, or changing all letters to be lowercase. The next code cells should take care of that."
   ]
  },
  {
   "cell_type": "code",
   "execution_count": 3,
   "metadata": {
    "id": "n5QVT3iFSXtz"
   },
   "outputs": [],
   "source": [
    "# we define a few functions to help perform text preprocessing, with one of them using the dreaded\n",
    "# R E G U L A R  E X P R E S S I O N S (or RegEx)\n",
    "\n",
    "# turn a Unicode string to plain ASCII, thanks to\n",
    "# https://stackoverflow.com/a/518232/2809427\n",
    "def unicodeToAscii(s):\n",
    "    return ''.join(\n",
    "        c for c in unicodedata.normalize('NFD', s)\n",
    "        if unicodedata.category(c) != 'Mn'\n",
    "    )\n",
    "\n",
    "# lowercase, trim, and remove non-letter characters\n",
    "def normalizeString(s):\n",
    "    s = unicodeToAscii(s.lower().strip())\n",
    "    s = re.sub(r\"([.!?])\", r\" \\1\", s)\n",
    "    s = re.sub(r\"[^a-zA-Z!?]+\", r\" \", s)\n",
    "    return s.strip()\n",
    "\n",
    "# we are going to use a support class called \"Vocabulary\" that collects and keeps\n",
    "# track of all the tokens in a vocabulary; in our case, the Vocabulary will be the set of\n",
    "# words used in the sentences we will see (in ENG and FRA), and tokens will correspond to words\n",
    "class Vocabulary :\n",
    "    def __init__(self, name=\"\"):\n",
    "        self.name = name\n",
    "        self.word2index = {}\n",
    "        self.word2count = {}\n",
    "        self.index2word = {0: \"SOS\", 1: \"EOS\"}\n",
    "        self.n_words = 2  # Count Start Of Sequence (SOS) and End Of Sequence (EOS)\n",
    "\n",
    "    def addSentence(self, sentence):\n",
    "        for word in sentence.split(' '):\n",
    "            self.addWord(word)\n",
    "\n",
    "    def addWord(self, word):\n",
    "        if word not in self.word2index:\n",
    "            self.word2index[word] = self.n_words\n",
    "            self.word2count[word] = 1\n",
    "            self.index2word[self.n_words] = word\n",
    "            self.n_words += 1\n",
    "        else:\n",
    "            self.word2count[word] += 1\n",
    "\n",
    "    # this special function is called whenever len(Vocabulary) is invoked from\n",
    "    # the outside of the object; returns the number of words (tokens)\n",
    "    def __len__(self) :\n",
    "      return self.n_words"
   ]
  },
  {
   "cell_type": "markdown",
   "metadata": {
    "id": "H8tuDccASUDm"
   },
   "source": [
    "Ok, now that we wrote some code to parse the text file we just accessed, let's try to create two Vocabulary instances for the two languages."
   ]
  },
  {
   "cell_type": "code",
   "execution_count": 4,
   "metadata": {
    "colab": {
     "base_uri": "https://localhost:8080/"
    },
    "id": "7FHDOypkUoK8",
    "outputId": "e223ca44-82cd-4f11-af50-868addb8d844"
   },
   "outputs": [
    {
     "name": "stdout",
     "output_type": "stream",
     "text": [
      "At the moment, the only tokens in the ENG Vocabulary are: {0: 'SOS', 1: 'EOS'}\n"
     ]
    }
   ],
   "source": [
    "# empty vocabularies for the moment\n",
    "vocabulary_ENG = Vocabulary(\"ENG\")\n",
    "vocabulary_FRA = Vocabulary(\"FRA\")\n",
    "\n",
    "print(\"At the moment, the only tokens in the ENG Vocabulary are:\", vocabulary_ENG.index2word)"
   ]
  },
  {
   "cell_type": "markdown",
   "metadata": {
    "id": "6-V2wx01Vd50"
   },
   "source": [
    "It's time to populate the vocabularies using the sentence pairs we read at the beginning."
   ]
  },
  {
   "cell_type": "code",
   "execution_count": 5,
   "metadata": {
    "id": "F-4SXnn5Vq5e"
   },
   "outputs": [
    {
     "name": "stdout",
     "output_type": "stream",
     "text": [
      "Found 135842 pairs of sentences! This is an example of a pair of corresponding sentences: ['go ahead', 'vas y !']\n",
      "After selection, we now have 11445 sentence pairs!\n"
     ]
    }
   ],
   "source": [
    "# iterate over all the file lines, and create pairs of sentences; we know that each\n",
    "# sentence in the same line is separated by tab, '\\t', so we can split the line on that character;\n",
    "# we are also going to use the 'normalizeString' function to\n",
    "pairs = [[normalizeString(s) for s in l.split('\\t')[:2]] for l in file_lines]\n",
    "print(\"Found %d pairs of sentences! This is an example of a pair of corresponding sentences: %s\" % (len(pairs), str(pairs[221])))\n",
    "\n",
    "# that's a lot of data! we cannot spend a lot of time waiting for the network\n",
    "# to learn the intricacies of two different languages, so we drastically reduce\n",
    "# the data set, by taking only short sentences and only sentences that start with\n",
    "# one among a few selected prefixes\n",
    "maximum_sentence_length = 10\n",
    "acceptable_prefixes_ENG = (\n",
    "    \"i am \", \"i m \",\n",
    "    \"he is\", \"he s \",\n",
    "    \"she is\", \"she s \",\n",
    "    \"you are\", \"you re \",\n",
    "    \"we are\", \"we re \",\n",
    "    \"they are\", \"they re \"\n",
    ")\n",
    "\n",
    "pairs = [p for p in pairs if len(p[0].split(' ')) < maximum_sentence_length and \\\n",
    "            len(p[1].split(' ')) < maximum_sentence_length and \\\n",
    "            p[0].startswith(acceptable_prefixes_ENG)]\n",
    "print(\"After selection, we now have %d sentence pairs!\" % len(pairs))"
   ]
  },
  {
   "cell_type": "markdown",
   "metadata": {
    "id": "lgUxzN6SXyYX"
   },
   "source": [
    "Good! Now we just need to add the words (tokens) found in the selected sentences to their respective Vocabularies."
   ]
  },
  {
   "cell_type": "code",
   "execution_count": 6,
   "metadata": {
    "id": "jgO-lLmYYcw4"
   },
   "outputs": [
    {
     "name": "stdout",
     "output_type": "stream",
     "text": [
      "Analyzing sentences and adding tokens to the vocabularies...\n",
      "Now the ENG vocabulary has 2991 words, and the FRA vocabulary has 4601!\n"
     ]
    }
   ],
   "source": [
    "print(\"Analyzing sentences and adding tokens to the vocabularies...\")\n",
    "for pair in pairs :\n",
    "  vocabulary_ENG.addSentence(pair[0])\n",
    "  vocabulary_FRA.addSentence(pair[1])\n",
    "\n",
    "print(\"Now the ENG vocabulary has %d words, and the FRA vocabulary has %d!\" %\n",
    "      (len(vocabulary_ENG), len(vocabulary_FRA)))"
   ]
  },
  {
   "cell_type": "markdown",
   "metadata": {
    "id": "gzHZPUMqZL5e"
   },
   "source": [
    "Feel free to print out some of the words inside the two Vocabularies. Their ids (or indexes) have no meaning, they were just set while passing through the sentence pairs. Now that we finally have some clean data, we can create a DataLoader that will later feed our encoder/decoder."
   ]
  },
  {
   "cell_type": "markdown",
   "metadata": {
    "id": "UxSiXQALhTWB"
   },
   "source": [
    " ## Creating the DataLoaders\n",
    " Again, let's create some helper functions that will be applied to our samples. We will also split the data between training, validation, and test."
   ]
  },
  {
   "cell_type": "code",
   "execution_count": 7,
   "metadata": {
    "id": "mlE1Fz3dhXlB"
   },
   "outputs": [
    {
     "name": "stdout",
     "output_type": "stream",
     "text": [
      "First five sentence pairs before shuffling: [['i m ok', 'je vais bien'], ['i m ok', 'ca va'], ['i m fat', 'je suis gras'], ['i m fat', 'je suis gros'], ['i m fit', 'je suis en forme']]\n",
      "First five sentence pairs before shuffling: [['he is a lazy student', 'c est un etudiant paresseux'], ['you re the best dad ever', 'tu es le meilleur papa de tous les temps'], ['you are early', 'tu viens tot'], ['i m at the beach', 'je suis a la plage'], ['he is always losing his umbrella', 'il perd tout le temps son parapluie']]\n",
      "Sizes: training set 10645; validation set 400; test set 400 \n"
     ]
    }
   ],
   "source": [
    "# set the random seed, then shuffle the pairs (only the lines)\n",
    "import random\n",
    "random.seed(42)\n",
    "print(\"First five sentence pairs before shuffling:\", pairs[:5])\n",
    "random.shuffle(pairs)\n",
    "print(\"First five sentence pairs before shuffling:\", pairs[:5])\n",
    "\n",
    "# let's keep just a small number of sentences for validation and test, and most\n",
    "# of them for training\n",
    "validation_set_size = 400\n",
    "test_set_size = 400\n",
    "training_set_size = len(pairs) - validation_set_size - test_set_size\n",
    "\n",
    "pairs_training_set = pairs[:training_set_size]\n",
    "pairs_validation_set = pairs[training_set_size:training_set_size+validation_set_size]\n",
    "pairs_test_set = pairs[-test_set_size:]\n",
    "\n",
    "print(\"Sizes: training set %d; validation set %d; test set %d \" %\n",
    " (len(pairs_training_set), len(pairs_validation_set), len(pairs_test_set)))"
   ]
  },
  {
   "cell_type": "code",
   "execution_count": 8,
   "metadata": {
    "id": "L0Ee9qsXjdYa"
   },
   "outputs": [],
   "source": [
    "# helper function, pretty much self-explanatory\n",
    "def indexesFromSentence(lang, sentence):\n",
    "    return [lang.word2index[word] for word in sentence.split(' ')]\n",
    "\n",
    "# this function returns a DataLoader object, given a list of pairs, and the two\n",
    "# input/output languages, to compute the token ids starting from the words\n",
    "def get_dataloader(pairs, input_lang, output_lang, batch_size=32, max_length=10, EOS_token=1, device=\"cpu\"):\n",
    "\n",
    "    n = len(pairs)\n",
    "    input_ids = np.zeros((n, max_length), dtype=np.int32)\n",
    "    target_ids = np.zeros((n, max_length), dtype=np.int32)\n",
    "\n",
    "    for idx, (inp, tgt) in enumerate(pairs):\n",
    "        inp_ids = indexesFromSentence(input_lang, inp)\n",
    "        tgt_ids = indexesFromSentence(output_lang, tgt)\n",
    "        inp_ids.append(EOS_token)\n",
    "        tgt_ids.append(EOS_token)\n",
    "        input_ids[idx, :len(inp_ids)] = inp_ids\n",
    "        target_ids[idx, :len(tgt_ids)] = tgt_ids\n",
    "\n",
    "    # create a TensorDataset\n",
    "    data = TensorDataset(torch.LongTensor(input_ids).to(device),\n",
    "                               torch.LongTensor(target_ids).to(device))\n",
    "\n",
    "    # what kind of sampling strategy will we apply when the DataLoader will be\n",
    "    # asked to return a batch of samples? Here we set a simple RandomSampler\n",
    "    sampler = RandomSampler(data)\n",
    "    # finally, instantiate and return the DataLoader\n",
    "    dataloader = DataLoader(data, sampler=sampler, batch_size=batch_size)\n",
    "\n",
    "    return dataloader"
   ]
  },
  {
   "cell_type": "code",
   "execution_count": 9,
   "metadata": {
    "id": "XAFu7RLXkxGu"
   },
   "outputs": [
    {
     "name": "stdout",
     "output_type": "stream",
     "text": [
      "Total number of samples that the train_loader will provide: 10645\n"
     ]
    }
   ],
   "source": [
    "# create DataLoaders for train, validation, and test\n",
    "batch_size = 32\n",
    "train_loader = get_dataloader(pairs_training_set, vocabulary_ENG, vocabulary_FRA, batch_size=batch_size, device=device_name)\n",
    "\n",
    "print(\"Total number of samples that the train_loader will provide:\", len(train_loader.sampler))\n",
    "\n",
    "# TODO create a validation_loader and a test_loader\n",
    "validation_loader = get_dataloader(pairs_validation_set, vocabulary_ENG, vocabulary_FRA, batch_size=len(pairs_validation_set), device=device_name)\n",
    "test_loader = get_dataloader(pairs_test_set, vocabulary_ENG, vocabulary_FRA, batch_size=len(pairs_test_set), device=device_name)"
   ]
  },
  {
   "cell_type": "markdown",
   "metadata": {
    "id": "L64eI74BnNPU"
   },
   "source": [
    "Now, modify the cell code above to (i) add the code to create the validation_loader and the test_loader, (ii) try to fetch out a few samples from one of the DataLoaders, and print them out. Are they how you were expecting them to be?"
   ]
  },
  {
   "cell_type": "markdown",
   "metadata": {
    "id": "v3ah1k1hZmxA"
   },
   "source": [
    "## Encoder/decoder architecture\n",
    "\n",
    "It's again our favorite moment of a pytorch notebook! We finally get to create new classes that inherit from torch.nn.Module! Oh, joy! In this case, we will create two separate classes, one for the Encoder, the other for the Decoder, to keep things more clear. Interestingly, it does not really matter if we will later use two separate objects to perform a forward pass: as the tensor that is travelling through the two object will maintain a computational graph of all the other tensors it interacted with, it will later be able to compute all gradients of all other tensors with respect to the loss function."
   ]
  },
  {
   "cell_type": "code",
   "execution_count": 10,
   "metadata": {
    "id": "o8mu66f2a4kG"
   },
   "outputs": [],
   "source": [
    "# inherits from torch.nn.Module\n",
    "class EncoderRNN(torch.nn.Module) :\n",
    "    # as for the other exercise on RNNs, let's have the size of the hidden layer\n",
    "    # as one of the arguments of the builder; notice that the dropout probability\n",
    "    # is another argument, as this time we will use a Dropout module to try to\n",
    "    # reduce the overfitting\n",
    "    def __init__(self, input_size, hidden_size, dropout_p=0.1) :\n",
    "        # invoke builder of the parent class\n",
    "        super(EncoderRNN, self).__init__()\n",
    "        self.hidden_size = hidden_size\n",
    "\n",
    "        # three modules: an embedding, to go from the Vocabulary tokens to a vector space (embedding)\n",
    "        # internally, the Embedding module has only linear layers, as we discussed in class\n",
    "        self.embedding = torch.nn.Embedding(input_size, hidden_size)\n",
    "        # a dropout module\n",
    "        self.dropout = torch.nn.Dropout(dropout_p)\n",
    "        # and a module of Gated Recurring Units\n",
    "        self.gru = torch.nn.GRU(hidden_size, hidden_size, batch_first=True)\n",
    "\n",
    "    def forward(self, input) :\n",
    "        # the forward pass is simple: first, we compute the embedding value for the input token\n",
    "        embedded_token = self.embedding(input)\n",
    "        # then, we pass through a dropout\n",
    "        embedded_token = self.dropout(embedded_token)\n",
    "        # and finally, through the GRU module, that will return the output and a hidden state\n",
    "        output, hidden = self.gru(embedded_token)\n",
    "        return output, hidden"
   ]
  },
  {
   "cell_type": "code",
   "execution_count": 11,
   "metadata": {
    "id": "Io0qIbsvcDkP"
   },
   "outputs": [],
   "source": [
    "# the decoder, on the other hand, is a bit more complex, not really for the architecture\n",
    "# (it uses only three modules), but for the way that it processes the output\n",
    "class DecoderRNN(torch.nn.Module) :\n",
    "\n",
    "    def __init__(self, hidden_size, output_size, device=\"cpu\", max_length=10, SOS_token=0, EOS_token=1):\n",
    "        super(DecoderRNN, self).__init__()\n",
    "        # these are just internal attributes for variables that we will need to keep track of\n",
    "        self.device = device # \"cpu\", \"cuda\", or \"mps\"\n",
    "        self.max_length = max_length # maximum length, used to stop during training if EOS not reached\n",
    "        self.SOS_token = SOS_token # index of the SOS\n",
    "        self.EOS_token = EOS_token # index of the EOS\n",
    "\n",
    "        # modules\n",
    "        self.embedding = torch.nn.Embedding(output_size, hidden_size)\n",
    "        self.relu = torch.nn.ReLU()\n",
    "        self.gru = torch.nn.GRU(hidden_size, hidden_size, batch_first=True)\n",
    "        self.out = torch.nn.Linear(hidden_size, output_size)\n",
    "\n",
    "    # forward pass: notice that, besides the arguments you would expect (encoder_outputs\n",
    "    # and encoder_hidden), there is an optional argument called 'target_tensor'\n",
    "    def forward(self, encoder_outputs, encoder_hidden, target_tensor=None) :\n",
    "        # training samples are sent in batches, so the tensor in output to the\n",
    "        # encoder will have one of the dimensions that corresponds to batch size\n",
    "        # let's keep track of it to set up the other tensors; we use encoder_outputs just for that\n",
    "        batch_size = encoder_outputs.size(0)\n",
    "        # first, fill in all the first inputs for the decoder as SOS (Start of Sequence) special tokens\n",
    "        # the code below creates an empty tensor and fills it the the value self.SOS_token\n",
    "        decoder_input = torch.empty(batch_size, 1, dtype=torch.long, device=self.device).fill_(self.SOS_token)\n",
    "        # the initial hidden state of the GRU/RNN layer, on the other hand, will be set as the hidden state\n",
    "        # (or context vector) that came out of the encoder\n",
    "        decoder_hidden = encoder_hidden\n",
    "        # we clearly want to keep track of the outputs\n",
    "        decoder_outputs = []\n",
    "\n",
    "        for i in range(self.max_length):\n",
    "\n",
    "            # forward pass of the tensor through the modules\n",
    "            z = self.embedding(decoder_input)\n",
    "            z = self.relu(z)\n",
    "            z, decoder_hidden = self.gru(z, decoder_hidden)\n",
    "            decoder_output = self.out(z)\n",
    "\n",
    "            # keep track of the outputs\n",
    "            decoder_outputs.append(decoder_output)\n",
    "\n",
    "            # target_tensor is used here to understand whether we are running during training\n",
    "            # or during validation/test\n",
    "            if target_tensor is not None:\n",
    "                # teacher forcing: feed the known ground truth target as the next input\n",
    "                decoder_input = target_tensor[:, i].unsqueeze(1) # teacher forcing\n",
    "            else:\n",
    "                # without teacher forcing: use its own predictions as the next input\n",
    "                _, topi = decoder_output.topk(1) # returns the k largest elements of the given input tensor along a given dimension; here k=1\n",
    "                decoder_input = topi.squeeze(-1).detach()  # detach from history as input\n",
    "\n",
    "        decoder_outputs = torch.cat(decoder_outputs, dim=1)\n",
    "        decoder_outputs = F.log_softmax(decoder_outputs, dim=-1)\n",
    "        return decoder_outputs, decoder_hidden #, None # We return `None` for consistency in the training loop"
   ]
  },
  {
   "cell_type": "markdown",
   "metadata": {
    "id": "Uj65n8tentjM"
   },
   "source": [
    "## Training the networks\n",
    "\n",
    "We are finally at the point where we can instantiate our networks and train them! In the code below, you might have noticed that I created two optimizers, one for the encoder and one for the decoder. As the gradients on the tensors representing the parameters of each are computed in the same backward pass, in theory we could use just one optimizer. However, I had some trouble passing the parameters of the two networks together to a single optimizer, so for the moment I used this patch. I am sure that if I created another wrapper class, that had inside both an instance of EncoderRNN and DecoderRNN, I would be able to do it, but I ran out of time to prepare this example, sorry ^_^;\n",
    "\n",
    "Maybe you can do better than what I did!"
   ]
  },
  {
   "cell_type": "code",
   "execution_count": 12,
   "metadata": {
    "id": "RvsgOikvorMr"
   },
   "outputs": [],
   "source": [
    "# networks hyperparameters: size of all hidden states\n",
    "hidden_size = 128\n",
    "\n",
    "# optimizer hyperparameters\n",
    "max_epochs = 100\n",
    "learning_rate = 3e-4\n",
    "\n",
    "# fix random seed\n",
    "torch.manual_seed(42)\n",
    "\n",
    "# instantiate networks! the input size for the encoder is the number of tokens in\n",
    "# the input vocabulary (ENG), the output side of the decoder is the number of tokens\n",
    "# in the output vocabulary (FRA)\n",
    "encoder = EncoderRNN(vocabulary_ENG.n_words, hidden_size)\n",
    "decoder = DecoderRNN(hidden_size, vocabulary_FRA.n_words)\n",
    "encoder.to(device_name)\n",
    "decoder.to(device_name)\n",
    "\n",
    "# instantiate optimizers\n",
    "encoder_optimizer = optim.Adam(encoder.parameters(), lr=learning_rate)\n",
    "decoder_optimizer = optim.Adam(decoder.parameters(), lr=learning_rate)\n",
    "\n",
    "# loss function, works like Categorical Cross-Entropy, but accepts in input\n",
    "# only tensors that have already passed through a SoftMax\n",
    "loss_function = nn.NLLLoss()"
   ]
  },
  {
   "cell_type": "code",
   "execution_count": null,
   "metadata": {
    "colab": {
     "base_uri": "https://localhost:8080/"
    },
    "id": "EKX0mybWtoaW",
    "outputId": "4d183bf6-9324-46e8-f1f6-04401e6a1537"
   },
   "outputs": [
    {
     "name": "stdout",
     "output_type": "stream",
     "text": [
      "Epoch 0: training loss=3.886690\n",
      "Epoch 1: training loss=2.836368\n",
      "Epoch 2: training loss=2.536768\n"
     ]
    }
   ],
   "source": [
    "# just before starting the loop, set all models in 'training' mode, so that Dropouts\n",
    "# and possibly other training-only behaviors are active\n",
    "encoder.train()\n",
    "decoder.train()\n",
    "\n",
    "# and here is the training loop, in all its glory!\n",
    "for epoch in range(0, max_epochs) :\n",
    "\n",
    "  # keep track of the losses for each batch\n",
    "  batches_loss = []\n",
    "\n",
    "  # process all batches\n",
    "  for input_tensor, target_tensor in train_loader :\n",
    "\n",
    "    # pass input tensor through the encoder\n",
    "    encoder_outputs, encoder_hidden = encoder(input_tensor.to(device_name))\n",
    "\n",
    "    # pass outputs and hidden state to the encoder, along with the target tensor\n",
    "    # that, during training, will be used; we also obtain decoder_hidden, but we\n",
    "    # will not really use it\n",
    "    decoder_outputs, decoder_hidden = decoder(encoder_outputs.to(device_name), \n",
    "                                              encoder_hidden.to(device_name), \n",
    "                                              target_tensor.to(device_name))\n",
    "\n",
    "    # compute loss function\n",
    "    batch_loss = loss_function(decoder_outputs.view(-1, decoder_outputs.size(-1)), \n",
    "                               target_tensor.view(-1))\n",
    "\n",
    "    # and now, an optimization step! reset gradients on network parameters\n",
    "    encoder_optimizer.zero_grad()\n",
    "    decoder_optimizer.zero_grad()\n",
    "    # backward pass, updating gradients\n",
    "    batch_loss.backward()\n",
    "    # optimizer step OH MY GOD, THIS IS HORRIBLE, WHY COULDN'T I MAKE IT WORK WITH ONE?\n",
    "    encoder_optimizer.step()\n",
    "    decoder_optimizer.step()\n",
    "\n",
    "    # store loss value\n",
    "    batches_loss.append(batch_loss.detach().item())\n",
    "\n",
    "  # training loss for the epoch is the mean of the losses of each batch\n",
    "  train_loss = np.mean(batches_loss)\n",
    "\n",
    "  # TODO also compute the validation loss, using the torch.no_grad() context\n",
    "  # TODO also print out the validation loss\n",
    "  print(\"Epoch %d: training loss=%.6f\" % (epoch, train_loss))"
   ]
  },
  {
   "cell_type": "markdown",
   "metadata": {
    "id": "vIBVQiBptCdN"
   },
   "source": [
    "Fantastic! The loss is decreasing. Notice how each epoch takes a considerable amount of time. If you want to restart the training from the weights you obtained in the last iteration and keep going for a while more, you can just re-run the last code cell. However, if you modify some hyperparameter and would like to restart from scratch, you will have to re-run the code cell before the last one, because it sets the random seed and instantiates the networks.\n",
    "\n",
    "Now that we have the trained weights, we can finally evaluate our network! Write the code to:\n",
    "1. Select a random sentence pair.\n",
    "2. Transform the words in the input sentence into a tensor of tokens.\n",
    "3. Send the tensor through the encoder and the decoder, to get a tensor of tokens in output.\n",
    "4. Convert the tokens in the output back to words.\n",
    "5. And actually, do that in a loop with a lot of sentences, because my experience is that some of them were translated properly and other absolutely were not :-)\n",
    "\n",
    "You can write the code completely from scratch, or you can re-use the helper functions that we declared at the beginning of the notebook."
   ]
  },
  {
   "cell_type": "code",
   "execution_count": null,
   "metadata": {
    "id": "bdpbechduBZ2"
   },
   "outputs": [],
   "source": [
    "number_of_test_pairs = 1\n",
    "\n",
    "encoder.eval()\n",
    "decoder.eval()\n",
    "\n",
    "for i in range(0, number_of_test_pairs) :\n",
    "  input_sentence, output_sentence = random.choice(pairs_training_set)\n",
    "  print(\"Input: \\\"%s\\\"; Output (Ground truth): \\\"%s\\\"\" % (input_sentence, output_sentence))\n",
    "\n",
    "  input_ids = indexesFromSentence(vocabulary_ENG, input_sentence)\n",
    "  output_ids = indexesFromSentence(vocabulary_FRA, output_sentence)\n",
    "\n",
    "  with torch.no_grad() :\n",
    "    input_tensor = torch.Tensor(input_ids)\n",
    "    encoder_outputs, encoder_hidden = encoder(input_tensor.unsqueeze(dim=0))\n",
    "    decoder_outputs, decoder_hidden = decoder(encoder_outputs, encoder_hidden) # there is no target tensor\n",
    "\n",
    "    output_sentence_pred = [ vocabulary_FRA.index2word[t] for t in decoder_outputs.tolist() ].append\n",
    "    print(\"Output (prediction): \\\"%s\\\"\" % output_sentence_pred)\n"
   ]
  }
 ],
 "metadata": {
  "colab": {
   "provenance": []
  },
  "kernelspec": {
   "display_name": "Python 3 (ipykernel)",
   "language": "python",
   "name": "python3"
  },
  "language_info": {
   "codemirror_mode": {
    "name": "ipython",
    "version": 3
   },
   "file_extension": ".py",
   "mimetype": "text/x-python",
   "name": "python",
   "nbconvert_exporter": "python",
   "pygments_lexer": "ipython3",
   "version": "3.10.14"
  }
 },
 "nbformat": 4,
 "nbformat_minor": 1
}
