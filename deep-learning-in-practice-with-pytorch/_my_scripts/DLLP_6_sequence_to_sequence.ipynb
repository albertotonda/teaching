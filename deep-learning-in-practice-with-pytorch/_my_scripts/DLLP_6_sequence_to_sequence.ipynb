{
 "cells": [
  {
   "cell_type": "markdown",
   "metadata": {
    "id": "3cHNqX7cOxxy"
   },
   "source": [
    "# Sequence to sequence (seq2seq)\n",
    "\n",
    "In this notebook, we are going to train an encoder/decoder architecture able to translate short sentences from English to French. First of all, we will need some data. The website https://www.manythings.org/anki/ has a beautiful data set of sentences with their corresponding translations. We are going to use a [text file in a .zip hosted by the pytorch website](https://download.pytorch.org/tutorial/data.zip), that contains pairs of sentences ENG-FRA."
   ]
  },
  {
   "cell_type": "code",
   "execution_count": 1,
   "metadata": {
    "id": "HxOTHwzzOs7e"
   },
   "outputs": [
    {
     "data": {
      "text/plain": [
       "device(type='cuda')"
      ]
     },
     "execution_count": 1,
     "metadata": {},
     "output_type": "execute_result"
    }
   ],
   "source": [
    "# usual imports, plus some text manipulation utility library\n",
    "import unicodedata\n",
    "import numpy as np\n",
    "import re\n",
    "import random\n",
    "import torch\n",
    "import torch.nn as nn\n",
    "import torch.nn.functional as F\n",
    "\n",
    "from __future__ import unicode_literals, print_function, division\n",
    "from io import open\n",
    "from torch import optim\n",
    "from torch.utils.data import TensorDataset, DataLoader, RandomSampler\n",
    "\n",
    "# check which type of computational devices are available for pytorch, and\n",
    "# set the most appropriate one\n",
    "device_name = \"cpu\"\n",
    "if torch.cuda.is_available() :\n",
    "  device_name = \"cuda\"\n",
    "elif torch.backends.mps.is_available() :\n",
    "  device_name = \"mps\"\n",
    "\n",
    "# I have issues with the GPU\n",
    "#device_name = \"cpu\"\n",
    "torch.device(device_name)"
   ]
  },
  {
   "cell_type": "code",
   "execution_count": 2,
   "metadata": {
    "id": "BLoseqJIQtAc"
   },
   "outputs": [
    {
     "name": "stdout",
     "output_type": "stream",
     "text": [
      "The file contains 135842 lines! Example: \"Run!\tCourez !\n",
      "\"\n"
     ]
    }
   ],
   "source": [
    "# access a .zip file and read the content in the text file with the specified name\n",
    "url_zip = \"https://download.pytorch.org/tutorial/data.zip\"\n",
    "file_name = \"data/eng-fra.txt\"\n",
    "from io import BytesIO\n",
    "from zipfile import ZipFile\n",
    "from urllib.request import urlopen\n",
    "\n",
    "resp = urlopen(url_zip)\n",
    "myzip = ZipFile(BytesIO(resp.read()))\n",
    "file_lines = [ l.decode('utf-8') for l in myzip.open(file_name).readlines() ]\n",
    "print(\"The file contains %d lines! Example: \\\"%s\\\"\" % (len(file_lines), file_lines[2]))"
   ]
  },
  {
   "cell_type": "markdown",
   "metadata": {
    "id": "I0i9KLhFX0IF"
   },
   "source": [
    "## Pre-processing the text file\n",
    "\n",
    "Working on language requires a rather bothersome part of pre-processing, performing tasks such as ensuring that all characters are using the same encoding (like ASCII or UTF-8), removing endlines '\\n' and other special characters, or changing all letters to be lowercase. The next code cells should take care of that."
   ]
  },
  {
   "cell_type": "code",
   "execution_count": 3,
   "metadata": {
    "id": "n5QVT3iFSXtz"
   },
   "outputs": [],
   "source": [
    "# we define a few functions to help perform text preprocessing, with one of them using the dreaded\n",
    "# R E G U L A R  E X P R E S S I O N S (or RegEx)\n",
    "\n",
    "# turn a Unicode string to plain ASCII, thanks to\n",
    "# https://stackoverflow.com/a/518232/2809427\n",
    "def unicodeToAscii(s):\n",
    "    return ''.join(\n",
    "        c for c in unicodedata.normalize('NFD', s)\n",
    "        if unicodedata.category(c) != 'Mn'\n",
    "    )\n",
    "\n",
    "# lowercase, trim, and remove non-letter characters\n",
    "def normalizeString(s):\n",
    "    s = unicodeToAscii(s.lower().strip())\n",
    "    s = re.sub(r\"([.!?])\", r\" \\1\", s)\n",
    "    s = re.sub(r\"[^a-zA-Z!?]+\", r\" \", s)\n",
    "    return s.strip()\n",
    "\n",
    "# we are going to use a support class called \"Vocabulary\" that collects and keeps\n",
    "# track of all the tokens in a vocabulary; in our case, the Vocabulary will be the set of\n",
    "# words used in the sentences we will see (in ENG and FRA), and tokens will correspond to words\n",
    "class Vocabulary :\n",
    "    def __init__(self, name=\"\"):\n",
    "        self.name = name\n",
    "        self.word2index = {}\n",
    "        self.word2count = {}\n",
    "        self.index2word = {0: \"SOS\", 1: \"EOS\"}\n",
    "        self.n_words = 2  # Count Start Of Sequence (SOS) and End Of Sequence (EOS)\n",
    "\n",
    "    def addSentence(self, sentence):\n",
    "        for word in sentence.split(' '):\n",
    "            self.addWord(word)\n",
    "\n",
    "    def addWord(self, word):\n",
    "        if word not in self.word2index:\n",
    "            self.word2index[word] = self.n_words\n",
    "            self.word2count[word] = 1\n",
    "            self.index2word[self.n_words] = word\n",
    "            self.n_words += 1\n",
    "        else:\n",
    "            self.word2count[word] += 1\n",
    "\n",
    "    # this special function is called whenever len(Vocabulary) is invoked from\n",
    "    # the outside of the object; returns the number of words (tokens)\n",
    "    def __len__(self) :\n",
    "      return self.n_words"
   ]
  },
  {
   "cell_type": "markdown",
   "metadata": {
    "id": "H8tuDccASUDm"
   },
   "source": [
    "Ok, now that we wrote some code to parse the text file we just accessed, let's try to create two Vocabulary instances for the two languages."
   ]
  },
  {
   "cell_type": "code",
   "execution_count": 4,
   "metadata": {
    "colab": {
     "base_uri": "https://localhost:8080/"
    },
    "id": "7FHDOypkUoK8",
    "outputId": "e223ca44-82cd-4f11-af50-868addb8d844"
   },
   "outputs": [
    {
     "name": "stdout",
     "output_type": "stream",
     "text": [
      "At the moment, the only tokens in the ENG Vocabulary are: {0: 'SOS', 1: 'EOS'}\n"
     ]
    }
   ],
   "source": [
    "# empty vocabularies for the moment\n",
    "vocabulary_ENG = Vocabulary(\"ENG\")\n",
    "vocabulary_FRA = Vocabulary(\"FRA\")\n",
    "\n",
    "print(\"At the moment, the only tokens in the ENG Vocabulary are:\", vocabulary_ENG.index2word)"
   ]
  },
  {
   "cell_type": "markdown",
   "metadata": {
    "id": "6-V2wx01Vd50"
   },
   "source": [
    "It's time to populate the vocabularies using the sentence pairs we read at the beginning."
   ]
  },
  {
   "cell_type": "code",
   "execution_count": 5,
   "metadata": {
    "id": "F-4SXnn5Vq5e"
   },
   "outputs": [
    {
     "name": "stdout",
     "output_type": "stream",
     "text": [
      "Found 135842 pairs of sentences! This is an example of a pair of corresponding sentences: ['go ahead', 'vas y !']\n",
      "After selection, we now have 11445 sentence pairs!\n"
     ]
    }
   ],
   "source": [
    "# iterate over all the file lines, and create pairs of sentences; we know that each\n",
    "# sentence in the same line is separated by tab, '\\t', so we can split the line on that character;\n",
    "# we are also going to use the 'normalizeString' function to\n",
    "pairs = [[normalizeString(s) for s in l.split('\\t')[:2]] for l in file_lines]\n",
    "print(\"Found %d pairs of sentences! This is an example of a pair of corresponding sentences: %s\" % (len(pairs), str(pairs[221])))\n",
    "\n",
    "# that's a lot of data! we cannot spend a lot of time waiting for the network\n",
    "# to learn the intricacies of two different languages, so we drastically reduce\n",
    "# the data set, by taking only short sentences and only sentences that start with\n",
    "# one among a few selected prefixes\n",
    "maximum_sentence_length = 10\n",
    "acceptable_prefixes_ENG = (\n",
    "    \"i am \", \"i m \",\n",
    "    \"he is\", \"he s \",\n",
    "    \"she is\", \"she s \",\n",
    "    \"you are\", \"you re \",\n",
    "    \"we are\", \"we re \",\n",
    "    \"they are\", \"they re \"\n",
    ")\n",
    "\n",
    "pairs = [p for p in pairs if len(p[0].split(' ')) < maximum_sentence_length and \\\n",
    "            len(p[1].split(' ')) < maximum_sentence_length and \\\n",
    "            p[0].startswith(acceptable_prefixes_ENG)]\n",
    "print(\"After selection, we now have %d sentence pairs!\" % len(pairs))"
   ]
  },
  {
   "cell_type": "markdown",
   "metadata": {
    "id": "lgUxzN6SXyYX"
   },
   "source": [
    "Good! Now we just need to add the words (tokens) found in the selected sentences to their respective Vocabularies."
   ]
  },
  {
   "cell_type": "code",
   "execution_count": 6,
   "metadata": {
    "id": "jgO-lLmYYcw4"
   },
   "outputs": [
    {
     "name": "stdout",
     "output_type": "stream",
     "text": [
      "Analyzing sentences and adding tokens to the vocabularies...\n",
      "Now the ENG vocabulary has 2991 words, and the FRA vocabulary has 4601!\n"
     ]
    }
   ],
   "source": [
    "print(\"Analyzing sentences and adding tokens to the vocabularies...\")\n",
    "for pair in pairs :\n",
    "  vocabulary_ENG.addSentence(pair[0])\n",
    "  vocabulary_FRA.addSentence(pair[1])\n",
    "\n",
    "print(\"Now the ENG vocabulary has %d words, and the FRA vocabulary has %d!\" %\n",
    "      (len(vocabulary_ENG), len(vocabulary_FRA)))"
   ]
  },
  {
   "cell_type": "markdown",
   "metadata": {
    "id": "gzHZPUMqZL5e"
   },
   "source": [
    "Feel free to print out some of the words inside the two Vocabularies. Their ids (or indexes) have no meaning, they were just set while passing through the sentence pairs. Now that we finally have some clean data, we can create a DataLoader that will later feed our encoder/decoder."
   ]
  },
  {
   "cell_type": "markdown",
   "metadata": {
    "id": "UxSiXQALhTWB"
   },
   "source": [
    " ## Creating the DataLoaders\n",
    " Again, let's create some helper functions that will be applied to our samples. We will also split the data between training, validation, and test."
   ]
  },
  {
   "cell_type": "code",
   "execution_count": 7,
   "metadata": {
    "id": "mlE1Fz3dhXlB"
   },
   "outputs": [
    {
     "name": "stdout",
     "output_type": "stream",
     "text": [
      "First five sentence pairs before shuffling: [['i m ok', 'je vais bien'], ['i m ok', 'ca va'], ['i m fat', 'je suis gras'], ['i m fat', 'je suis gros'], ['i m fit', 'je suis en forme']]\n",
      "First five sentence pairs before shuffling: [['he is a lazy student', 'c est un etudiant paresseux'], ['you re the best dad ever', 'tu es le meilleur papa de tous les temps'], ['you are early', 'tu viens tot'], ['i m at the beach', 'je suis a la plage'], ['he is always losing his umbrella', 'il perd tout le temps son parapluie']]\n",
      "Sizes: training set 10645; validation set 400; test set 400 \n"
     ]
    }
   ],
   "source": [
    "# set the random seed, then shuffle the pairs (only the lines)\n",
    "import random\n",
    "random.seed(42)\n",
    "print(\"First five sentence pairs before shuffling:\", pairs[:5])\n",
    "random.shuffle(pairs)\n",
    "print(\"First five sentence pairs before shuffling:\", pairs[:5])\n",
    "\n",
    "# let's keep just a small number of sentences for validation and test, and most\n",
    "# of them for training\n",
    "validation_set_size = 400\n",
    "test_set_size = 400\n",
    "training_set_size = len(pairs) - validation_set_size - test_set_size\n",
    "\n",
    "pairs_training_set = pairs[:training_set_size]\n",
    "pairs_validation_set = pairs[training_set_size:training_set_size+validation_set_size]\n",
    "pairs_test_set = pairs[-test_set_size:]\n",
    "\n",
    "print(\"Sizes: training set %d; validation set %d; test set %d \" %\n",
    " (len(pairs_training_set), len(pairs_validation_set), len(pairs_test_set)))"
   ]
  },
  {
   "cell_type": "code",
   "execution_count": 8,
   "metadata": {
    "id": "L0Ee9qsXjdYa"
   },
   "outputs": [],
   "source": [
    "# helper function, pretty much self-explanatory\n",
    "def indexesFromSentence(lang, sentence):\n",
    "    return [lang.word2index[word] for word in sentence.split(' ')]\n",
    "\n",
    "# this function returns a DataLoader object, given a list of pairs, and the two\n",
    "# input/output languages, to compute the token ids starting from the words\n",
    "def get_dataloader(pairs, input_lang, output_lang, batch_size=32, max_length=10, EOS_token=1, device=\"cpu\"):\n",
    "\n",
    "    n = len(pairs)\n",
    "    input_ids = np.zeros((n, max_length), dtype=np.int32)\n",
    "    target_ids = np.zeros((n, max_length), dtype=np.int32)\n",
    "\n",
    "    for idx, (inp, tgt) in enumerate(pairs):\n",
    "        inp_ids = indexesFromSentence(input_lang, inp)\n",
    "        tgt_ids = indexesFromSentence(output_lang, tgt)\n",
    "        inp_ids.append(EOS_token)\n",
    "        tgt_ids.append(EOS_token)\n",
    "        input_ids[idx, :len(inp_ids)] = inp_ids\n",
    "        target_ids[idx, :len(tgt_ids)] = tgt_ids\n",
    "\n",
    "    # create a TensorDataset\n",
    "    data = TensorDataset(torch.LongTensor(input_ids).to(device),\n",
    "                               torch.LongTensor(target_ids).to(device))\n",
    "\n",
    "    # what kind of sampling strategy will we apply when the DataLoader will be\n",
    "    # asked to return a batch of samples? Here we set a simple RandomSampler\n",
    "    sampler = RandomSampler(data)\n",
    "    # finally, instantiate and return the DataLoader\n",
    "    dataloader = DataLoader(data, sampler=sampler, batch_size=batch_size)\n",
    "\n",
    "    return dataloader"
   ]
  },
  {
   "cell_type": "code",
   "execution_count": 9,
   "metadata": {
    "id": "XAFu7RLXkxGu"
   },
   "outputs": [
    {
     "name": "stdout",
     "output_type": "stream",
     "text": [
      "Total number of samples that the train_loader will provide: 10645\n"
     ]
    }
   ],
   "source": [
    "# create DataLoaders for train, validation, and test\n",
    "batch_size = 32\n",
    "train_loader = get_dataloader(pairs_training_set, vocabulary_ENG, vocabulary_FRA, batch_size=batch_size, device=device_name)\n",
    "\n",
    "print(\"Total number of samples that the train_loader will provide:\", len(train_loader.sampler))\n",
    "\n",
    "# TODO create a validation_loader and a test_loader\n",
    "validation_loader = get_dataloader(pairs_validation_set, vocabulary_ENG, vocabulary_FRA, batch_size=len(pairs_validation_set), device=device_name)\n",
    "test_loader = get_dataloader(pairs_test_set, vocabulary_ENG, vocabulary_FRA, batch_size=len(pairs_test_set), device=device_name)"
   ]
  },
  {
   "cell_type": "markdown",
   "metadata": {
    "id": "L64eI74BnNPU"
   },
   "source": [
    "Now, modify the cell code above to (i) add the code to create the validation_loader and the test_loader, (ii) try to fetch out a few samples from one of the DataLoaders, and print them out. Are they how you were expecting them to be?"
   ]
  },
  {
   "cell_type": "markdown",
   "metadata": {
    "id": "v3ah1k1hZmxA"
   },
   "source": [
    "## Encoder/decoder architecture\n",
    "\n",
    "It's again our favorite moment of a pytorch notebook! We finally get to create new classes that inherit from torch.nn.Module! Oh, joy! In this case, we will create two separate classes, one for the Encoder, the other for the Decoder, to keep things more clear. Interestingly, it does not really matter if we will later use two separate objects to perform a forward pass: as the tensor that is travelling through the two object will maintain a computational graph of all the other tensors it interacted with, it will later be able to compute all gradients of all other tensors with respect to the loss function."
   ]
  },
  {
   "cell_type": "code",
   "execution_count": 10,
   "metadata": {
    "id": "o8mu66f2a4kG"
   },
   "outputs": [],
   "source": [
    "# inherits from torch.nn.Module\n",
    "class EncoderRNN(torch.nn.Module) :\n",
    "    # as for the other exercise on RNNs, let's have the size of the hidden layer\n",
    "    # as one of the arguments of the builder; notice that the dropout probability\n",
    "    # is another argument, as this time we will use a Dropout module to try to\n",
    "    # reduce the overfitting\n",
    "    def __init__(self, input_size, hidden_size, dropout_p=0.1) :\n",
    "        # invoke builder of the parent class\n",
    "        super(EncoderRNN, self).__init__()\n",
    "        self.hidden_size = hidden_size\n",
    "\n",
    "        # three modules: an embedding, to go from the Vocabulary tokens to a vector space (embedding)\n",
    "        # internally, the Embedding module has only linear layers, as we discussed in class\n",
    "        self.embedding = torch.nn.Embedding(input_size, hidden_size)\n",
    "        # a dropout module\n",
    "        self.dropout = torch.nn.Dropout(dropout_p)\n",
    "        # and a module of Gated Recurring Units\n",
    "        self.gru = torch.nn.GRU(hidden_size, hidden_size, batch_first=True)\n",
    "\n",
    "    def forward(self, input) :\n",
    "        # the forward pass is simple: first, we compute the embedding value for the input token\n",
    "        embedded_token = self.embedding(input)\n",
    "        # then, we pass through a dropout\n",
    "        embedded_token = self.dropout(embedded_token)\n",
    "        # and finally, through the GRU module, that will return the output and a hidden state\n",
    "        output, hidden = self.gru(embedded_token)\n",
    "        return output, hidden"
   ]
  },
  {
   "cell_type": "code",
   "execution_count": 11,
   "metadata": {
    "id": "Io0qIbsvcDkP"
   },
   "outputs": [],
   "source": [
    "# the decoder, on the other hand, is a bit more complex, not really for the architecture\n",
    "# (it uses only three modules), but for the way that it processes the output\n",
    "class DecoderRNN(torch.nn.Module) :\n",
    "\n",
    "    def __init__(self, hidden_size, output_size, device=\"cpu\", max_length=10, SOS_token=0, EOS_token=1):\n",
    "        super(DecoderRNN, self).__init__()\n",
    "        # these are just internal attributes for variables that we will need to keep track of\n",
    "        self.device = device # \"cpu\", \"cuda\", or \"mps\"\n",
    "        self.max_length = max_length # maximum length, used to stop during training if EOS not reached\n",
    "        self.SOS_token = SOS_token # index of the SOS\n",
    "        self.EOS_token = EOS_token # index of the EOS\n",
    "\n",
    "        # modules\n",
    "        self.embedding = torch.nn.Embedding(output_size, hidden_size)\n",
    "        self.relu = torch.nn.ReLU()\n",
    "        self.gru = torch.nn.GRU(hidden_size, hidden_size, batch_first=True)\n",
    "        self.out = torch.nn.Linear(hidden_size, output_size)\n",
    "\n",
    "    # forward pass: notice that, besides the arguments you would expect (encoder_outputs\n",
    "    # and encoder_hidden), there is an optional argument called 'target_tensor'\n",
    "    def forward(self, encoder_outputs, encoder_hidden, target_tensor=None) :\n",
    "        # training samples are sent in batches, so the tensor in output to the\n",
    "        # encoder will have one of the dimensions that corresponds to batch size\n",
    "        # let's keep track of it to set up the other tensors; we use encoder_outputs just for that\n",
    "        batch_size = encoder_outputs.size(0)\n",
    "        # first, fill in all the first inputs for the decoder as SOS (Start of Sequence) special tokens\n",
    "        # the code below creates an empty tensor and fills it the the value self.SOS_token\n",
    "        decoder_input = torch.empty(batch_size, 1, dtype=torch.long, device=self.device).fill_(self.SOS_token)\n",
    "        # the initial hidden state of the GRU/RNN layer, on the other hand, will be set as the hidden state\n",
    "        # (or context vector) that came out of the encoder\n",
    "        decoder_hidden = encoder_hidden\n",
    "        # we clearly want to keep track of the outputs\n",
    "        decoder_outputs = []\n",
    "        \n",
    "        # loop to create all output token, but stop if EOS is produced\n",
    "        i = 0\n",
    "        EOS_token_found = False\n",
    "        # if we have a target_tensor (teacher mode)\n",
    "        if target_tensor is not None :\n",
    "            max_length = min(target_tensor.shape[1], self.max_length)\n",
    "        else :\n",
    "            max_length = self.max_length\n",
    "        \n",
    "        while i < max_length and not EOS_token_found :\n",
    "\n",
    "            # forward pass of the tensor through the modules\n",
    "            z = self.embedding(decoder_input)\n",
    "            z = self.relu(z)\n",
    "            z, decoder_hidden = self.gru(z, decoder_hidden)\n",
    "            decoder_output = self.out(z)\n",
    "\n",
    "            # keep track of the outputs\n",
    "            decoder_outputs.append(decoder_output)\n",
    "\n",
    "            # target_tensor is used here to understand whether we are running during training\n",
    "            # or during validation/test\n",
    "            if target_tensor is not None:\n",
    "                # teacher forcing: feed the known ground truth target as the next input\n",
    "                decoder_input = target_tensor[:, i].unsqueeze(1) # teacher forcing\n",
    "            else:\n",
    "                # without teacher forcing: use its own predictions as the next input\n",
    "                _, topi = decoder_output.topk(1) # returns the k largest elements of the given input tensor along a given dimension; here k=1\n",
    "                decoder_input = topi.squeeze(-1).detach()  # detach from history as input\n",
    "                if torch.argmax(decoder_input) == self.EOS_token :\n",
    "                    EOS_token_found = True\n",
    "                    \n",
    "            # in any case, increase the variable that manages the loop\n",
    "            i += 1\n",
    "\n",
    "        decoder_outputs = torch.cat(decoder_outputs, dim=1)\n",
    "        decoder_outputs = F.log_softmax(decoder_outputs, dim=-1)\n",
    "        return decoder_outputs, decoder_hidden #, None # We return `None` for consistency in the training loop"
   ]
  },
  {
   "cell_type": "markdown",
   "metadata": {
    "id": "Uj65n8tentjM"
   },
   "source": [
    "## Training the networks\n",
    "\n",
    "We are finally at the point where we can instantiate our networks and train them! In the code below, you might have noticed that I created two optimizers, one for the encoder and one for the decoder. As the gradients on the tensors representing the parameters of each are computed in the same backward pass, we can use just one optimizer, by passing it the parameters for both modules."
   ]
  },
  {
   "cell_type": "code",
   "execution_count": 19,
   "metadata": {
    "id": "RvsgOikvorMr"
   },
   "outputs": [],
   "source": [
    "# networks hyperparameters: size of all hidden states\n",
    "hidden_size = 512\n",
    "\n",
    "# optimizer hyperparameters\n",
    "max_epochs = 500\n",
    "learning_rate = 3e-5\n",
    "\n",
    "# fix random seed\n",
    "torch.manual_seed(42)\n",
    "\n",
    "# instantiate networks! the input size for the encoder is the number of tokens in\n",
    "# the input vocabulary (ENG), the output side of the decoder is the number of tokens\n",
    "# in the output vocabulary (FRA)\n",
    "encoder = EncoderRNN(vocabulary_ENG.n_words, hidden_size)\n",
    "decoder = DecoderRNN(hidden_size, vocabulary_FRA.n_words, device=device_name)\n",
    "encoder.to(device_name)\n",
    "decoder.to(device_name)\n",
    "\n",
    "# instantiate optimizers\n",
    "optimizer = optim.Adam(list(encoder.parameters()) + list(decoder.parameters()), lr=learning_rate)\n",
    "\n",
    "# loss function, works like Categorical Cross-Entropy, but accepts in input\n",
    "# only tensors that have already passed through a SoftMax\n",
    "loss_function = nn.NLLLoss()"
   ]
  },
  {
   "cell_type": "code",
   "execution_count": 20,
   "metadata": {
    "colab": {
     "base_uri": "https://localhost:8080/"
    },
    "id": "EKX0mybWtoaW",
    "outputId": "4d183bf6-9324-46e8-f1f6-04401e6a1537"
   },
   "outputs": [
    {
     "name": "stdout",
     "output_type": "stream",
     "text": [
      "Epoch 0: training loss=4.398726; validation loss=3.169194\n",
      "Epoch 1: training loss=3.036597; validation loss=2.893806\n",
      "Epoch 2: training loss=2.827122; validation loss=2.731829\n",
      "Epoch 3: training loss=2.659282; validation loss=2.588910\n",
      "Epoch 4: training loss=2.519864; validation loss=2.481037\n",
      "Epoch 5: training loss=2.407898; validation loss=2.392159\n",
      "Epoch 6: training loss=2.317308; validation loss=2.321435\n",
      "Epoch 7: training loss=2.240884; validation loss=2.260280\n",
      "Epoch 8: training loss=2.172601; validation loss=2.206538\n",
      "Epoch 9: training loss=2.110929; validation loss=2.159187\n",
      "Epoch 10: training loss=2.053236; validation loss=2.113867\n",
      "Epoch 11: training loss=2.000043; validation loss=2.075059\n",
      "Epoch 12: training loss=1.950806; validation loss=2.042197\n",
      "Epoch 13: training loss=1.904261; validation loss=2.010103\n",
      "Epoch 14: training loss=1.861124; validation loss=1.977042\n",
      "Epoch 15: training loss=1.819687; validation loss=1.952114\n",
      "Epoch 16: training loss=1.781388; validation loss=1.930650\n",
      "Epoch 17: training loss=1.744856; validation loss=1.907526\n",
      "Epoch 18: training loss=1.710689; validation loss=1.887878\n",
      "Epoch 19: training loss=1.677466; validation loss=1.870174\n",
      "Epoch 20: training loss=1.645595; validation loss=1.849182\n",
      "Epoch 21: training loss=1.614578; validation loss=1.832560\n",
      "Epoch 22: training loss=1.585925; validation loss=1.814653\n",
      "Epoch 23: training loss=1.557920; validation loss=1.801603\n",
      "Epoch 24: training loss=1.530649; validation loss=1.791644\n",
      "Epoch 25: training loss=1.504139; validation loss=1.778392\n",
      "Epoch 26: training loss=1.478157; validation loss=1.764538\n",
      "Epoch 27: training loss=1.453678; validation loss=1.753918\n",
      "Epoch 28: training loss=1.429657; validation loss=1.745342\n",
      "Epoch 29: training loss=1.406006; validation loss=1.732384\n",
      "Epoch 30: training loss=1.383243; validation loss=1.724670\n",
      "Epoch 31: training loss=1.360994; validation loss=1.713206\n",
      "Epoch 32: training loss=1.339282; validation loss=1.712213\n",
      "Epoch 33: training loss=1.318045; validation loss=1.697395\n",
      "Epoch 34: training loss=1.297572; validation loss=1.691883\n",
      "Epoch 35: training loss=1.277098; validation loss=1.680773\n",
      "Epoch 36: training loss=1.257016; validation loss=1.670445\n",
      "Epoch 37: training loss=1.237800; validation loss=1.667060\n",
      "Epoch 38: training loss=1.218672; validation loss=1.658138\n",
      "Epoch 39: training loss=1.200002; validation loss=1.645118\n",
      "Epoch 40: training loss=1.181362; validation loss=1.644616\n",
      "Epoch 41: training loss=1.162929; validation loss=1.636032\n",
      "Epoch 42: training loss=1.145918; validation loss=1.634462\n",
      "Epoch 43: training loss=1.127824; validation loss=1.626554\n",
      "Epoch 44: training loss=1.110756; validation loss=1.621163\n",
      "Epoch 45: training loss=1.094153; validation loss=1.611557\n",
      "Epoch 46: training loss=1.077711; validation loss=1.609879\n",
      "Epoch 47: training loss=1.061503; validation loss=1.603395\n",
      "Epoch 48: training loss=1.045218; validation loss=1.601653\n",
      "Epoch 49: training loss=1.029623; validation loss=1.599722\n",
      "Epoch 50: training loss=1.013937; validation loss=1.589863\n",
      "Epoch 51: training loss=0.998810; validation loss=1.590295\n",
      "Epoch 52: training loss=0.983203; validation loss=1.583902\n",
      "Epoch 53: training loss=0.968987; validation loss=1.578532\n",
      "Epoch 54: training loss=0.954071; validation loss=1.571927\n",
      "Epoch 55: training loss=0.939406; validation loss=1.573448\n",
      "Epoch 56: training loss=0.925195; validation loss=1.563998\n",
      "Epoch 57: training loss=0.911475; validation loss=1.555534\n",
      "Epoch 58: training loss=0.897579; validation loss=1.555455\n",
      "Epoch 59: training loss=0.884307; validation loss=1.554020\n",
      "Epoch 60: training loss=0.870748; validation loss=1.543589\n",
      "Epoch 61: training loss=0.857316; validation loss=1.544852\n",
      "Epoch 62: training loss=0.845070; validation loss=1.539261\n",
      "Epoch 63: training loss=0.831983; validation loss=1.535985\n",
      "Epoch 64: training loss=0.819775; validation loss=1.531790\n",
      "Epoch 65: training loss=0.806684; validation loss=1.526515\n",
      "Epoch 66: training loss=0.794159; validation loss=1.526404\n",
      "Epoch 67: training loss=0.782444; validation loss=1.521534\n",
      "Epoch 68: training loss=0.770636; validation loss=1.520214\n",
      "Epoch 69: training loss=0.758668; validation loss=1.515546\n",
      "Epoch 70: training loss=0.746825; validation loss=1.511741\n",
      "Epoch 71: training loss=0.735940; validation loss=1.505358\n",
      "Epoch 72: training loss=0.724430; validation loss=1.503813\n",
      "Epoch 73: training loss=0.713347; validation loss=1.505377\n",
      "Epoch 74: training loss=0.702363; validation loss=1.494160\n",
      "Epoch 75: training loss=0.691470; validation loss=1.497453\n",
      "Epoch 76: training loss=0.681042; validation loss=1.494549\n",
      "Epoch 77: training loss=0.670450; validation loss=1.484455\n",
      "Epoch 78: training loss=0.659832; validation loss=1.492796\n",
      "Epoch 79: training loss=0.649820; validation loss=1.488553\n",
      "Epoch 80: training loss=0.639339; validation loss=1.489148\n",
      "Epoch 81: training loss=0.629907; validation loss=1.489359\n",
      "Epoch 82: training loss=0.620400; validation loss=1.482602\n",
      "Epoch 83: training loss=0.610156; validation loss=1.485029\n",
      "Epoch 84: training loss=0.600933; validation loss=1.471195\n",
      "Epoch 85: training loss=0.591500; validation loss=1.479088\n",
      "Epoch 86: training loss=0.582049; validation loss=1.476101\n",
      "Epoch 87: training loss=0.573031; validation loss=1.472114\n",
      "Epoch 88: training loss=0.564221; validation loss=1.469450\n",
      "Epoch 89: training loss=0.554965; validation loss=1.468579\n",
      "Epoch 90: training loss=0.546686; validation loss=1.465508\n",
      "Epoch 91: training loss=0.537477; validation loss=1.455483\n",
      "Epoch 92: training loss=0.529256; validation loss=1.467375\n",
      "Epoch 93: training loss=0.521504; validation loss=1.463934\n",
      "Epoch 94: training loss=0.512499; validation loss=1.466486\n",
      "Epoch 95: training loss=0.504085; validation loss=1.459453\n",
      "Epoch 96: training loss=0.496635; validation loss=1.451309\n",
      "Epoch 97: training loss=0.488227; validation loss=1.455828\n",
      "Epoch 98: training loss=0.480727; validation loss=1.452338\n",
      "Epoch 99: training loss=0.473236; validation loss=1.453794\n",
      "Epoch 100: training loss=0.465189; validation loss=1.448081\n",
      "Epoch 101: training loss=0.457521; validation loss=1.441481\n",
      "Epoch 102: training loss=0.450349; validation loss=1.455244\n",
      "Epoch 103: training loss=0.443059; validation loss=1.446918\n",
      "Epoch 104: training loss=0.435939; validation loss=1.450466\n",
      "Epoch 105: training loss=0.428939; validation loss=1.444078\n",
      "Epoch 106: training loss=0.422281; validation loss=1.442047\n",
      "Epoch 107: training loss=0.414676; validation loss=1.441407\n",
      "Epoch 108: training loss=0.408932; validation loss=1.436217\n",
      "Epoch 109: training loss=0.401777; validation loss=1.440854\n",
      "Epoch 110: training loss=0.395939; validation loss=1.439258\n",
      "Epoch 111: training loss=0.389009; validation loss=1.443367\n",
      "Epoch 112: training loss=0.382848; validation loss=1.441900\n",
      "Epoch 113: training loss=0.376840; validation loss=1.431257\n",
      "Epoch 114: training loss=0.370659; validation loss=1.424543\n",
      "Epoch 115: training loss=0.364568; validation loss=1.422539\n",
      "Epoch 116: training loss=0.358833; validation loss=1.438324\n",
      "Epoch 117: training loss=0.352821; validation loss=1.434104\n",
      "Epoch 118: training loss=0.347858; validation loss=1.444701\n",
      "Epoch 119: training loss=0.341693; validation loss=1.436897\n",
      "Epoch 120: training loss=0.336037; validation loss=1.425429\n",
      "Epoch 121: training loss=0.330502; validation loss=1.439787\n",
      "Epoch 122: training loss=0.324795; validation loss=1.436000\n",
      "Epoch 123: training loss=0.320296; validation loss=1.432551\n",
      "Epoch 124: training loss=0.314866; validation loss=1.435121\n",
      "Epoch 125: training loss=0.310167; validation loss=1.429675\n",
      "Epoch 126: training loss=0.305308; validation loss=1.427877\n",
      "Epoch 127: training loss=0.300062; validation loss=1.426868\n",
      "Epoch 128: training loss=0.295428; validation loss=1.427829\n",
      "Epoch 129: training loss=0.290454; validation loss=1.439312\n",
      "Epoch 130: training loss=0.286752; validation loss=1.433695\n",
      "Epoch 131: training loss=0.282111; validation loss=1.432900\n",
      "Epoch 132: training loss=0.277561; validation loss=1.435537\n",
      "Epoch 133: training loss=0.273182; validation loss=1.435598\n",
      "Epoch 134: training loss=0.268380; validation loss=1.438365\n",
      "Epoch 135: training loss=0.264853; validation loss=1.424594\n",
      "Epoch 136: training loss=0.260342; validation loss=1.433732\n",
      "Epoch 137: training loss=0.256187; validation loss=1.419530\n",
      "Epoch 138: training loss=0.252550; validation loss=1.439070\n",
      "Epoch 139: training loss=0.248215; validation loss=1.437131\n",
      "Epoch 140: training loss=0.244326; validation loss=1.435715\n",
      "Epoch 141: training loss=0.241519; validation loss=1.430188\n",
      "Epoch 142: training loss=0.237351; validation loss=1.428736\n",
      "Epoch 143: training loss=0.233576; validation loss=1.428034\n",
      "Epoch 144: training loss=0.230528; validation loss=1.436722\n",
      "Epoch 145: training loss=0.226417; validation loss=1.438132\n",
      "Epoch 146: training loss=0.223385; validation loss=1.435405\n",
      "Epoch 147: training loss=0.220592; validation loss=1.441028\n",
      "Epoch 148: training loss=0.216926; validation loss=1.439250\n",
      "Epoch 149: training loss=0.214157; validation loss=1.442603\n",
      "Epoch 150: training loss=0.211313; validation loss=1.439376\n",
      "Epoch 151: training loss=0.207704; validation loss=1.444470\n",
      "Epoch 152: training loss=0.204768; validation loss=1.436156\n",
      "Epoch 153: training loss=0.202061; validation loss=1.447633\n",
      "Epoch 154: training loss=0.198809; validation loss=1.434494\n",
      "Epoch 155: training loss=0.196473; validation loss=1.446019\n",
      "Epoch 156: training loss=0.193729; validation loss=1.443366\n",
      "Epoch 157: training loss=0.190752; validation loss=1.443805\n",
      "Epoch 158: training loss=0.188787; validation loss=1.447584\n",
      "Epoch 159: training loss=0.185601; validation loss=1.457306\n",
      "Epoch 160: training loss=0.182903; validation loss=1.446223\n",
      "Epoch 161: training loss=0.180522; validation loss=1.447814\n",
      "Epoch 162: training loss=0.178223; validation loss=1.453016\n",
      "Epoch 163: training loss=0.176445; validation loss=1.454026\n",
      "Epoch 164: training loss=0.173942; validation loss=1.465925\n",
      "Epoch 165: training loss=0.172038; validation loss=1.462876\n",
      "Epoch 166: training loss=0.169606; validation loss=1.455755\n",
      "Epoch 167: training loss=0.167419; validation loss=1.463657\n",
      "Epoch 168: training loss=0.165575; validation loss=1.449699\n",
      "Epoch 169: training loss=0.163528; validation loss=1.460227\n",
      "Epoch 170: training loss=0.161923; validation loss=1.458773\n",
      "Epoch 171: training loss=0.159469; validation loss=1.466078\n",
      "Epoch 172: training loss=0.157719; validation loss=1.464564\n",
      "Epoch 173: training loss=0.155782; validation loss=1.467852\n",
      "Epoch 174: training loss=0.154359; validation loss=1.467696\n",
      "Epoch 175: training loss=0.152690; validation loss=1.469359\n",
      "Epoch 176: training loss=0.150392; validation loss=1.484386\n",
      "Epoch 177: training loss=0.148936; validation loss=1.464222\n",
      "Epoch 178: training loss=0.147183; validation loss=1.465372\n",
      "Epoch 179: training loss=0.145536; validation loss=1.471645\n",
      "Epoch 180: training loss=0.144528; validation loss=1.476212\n",
      "Epoch 181: training loss=0.142869; validation loss=1.477914\n",
      "Epoch 182: training loss=0.141175; validation loss=1.472575\n",
      "Epoch 183: training loss=0.139669; validation loss=1.474763\n",
      "Epoch 184: training loss=0.138186; validation loss=1.475022\n",
      "Epoch 185: training loss=0.136790; validation loss=1.493968\n",
      "Epoch 186: training loss=0.135761; validation loss=1.490635\n",
      "Epoch 187: training loss=0.134181; validation loss=1.479344\n",
      "Epoch 188: training loss=0.133013; validation loss=1.481995\n",
      "Epoch 189: training loss=0.131847; validation loss=1.488020\n",
      "Epoch 190: training loss=0.131003; validation loss=1.483364\n",
      "Epoch 191: training loss=0.129662; validation loss=1.497306\n",
      "Epoch 192: training loss=0.128234; validation loss=1.485779\n"
     ]
    },
    {
     "ename": "KeyboardInterrupt",
     "evalue": "",
     "output_type": "error",
     "traceback": [
      "\u001b[1;31m---------------------------------------------------------------------------\u001b[0m",
      "\u001b[1;31mKeyboardInterrupt\u001b[0m                         Traceback (most recent call last)",
      "Cell \u001b[1;32mIn[20], line 37\u001b[0m\n\u001b[0;32m     34\u001b[0m   optimizer\u001b[38;5;241m.\u001b[39mstep()\n\u001b[0;32m     36\u001b[0m   \u001b[38;5;66;03m# store loss value\u001b[39;00m\n\u001b[1;32m---> 37\u001b[0m   batches_loss\u001b[38;5;241m.\u001b[39mappend(\u001b[43mbatch_loss\u001b[49m\u001b[38;5;241;43m.\u001b[39;49m\u001b[43mdetach\u001b[49m\u001b[43m(\u001b[49m\u001b[43m)\u001b[49m\u001b[38;5;241;43m.\u001b[39;49m\u001b[43mitem\u001b[49m\u001b[43m(\u001b[49m\u001b[43m)\u001b[49m)\n\u001b[0;32m     39\u001b[0m \u001b[38;5;66;03m# training loss for the epoch is the mean of the losses of each batch\u001b[39;00m\n\u001b[0;32m     40\u001b[0m train_loss \u001b[38;5;241m=\u001b[39m np\u001b[38;5;241m.\u001b[39mmean(batches_loss)\n",
      "\u001b[1;31mKeyboardInterrupt\u001b[0m: "
     ]
    }
   ],
   "source": [
    "# just before starting the loop, set all models in 'training' mode, so that Dropouts\n",
    "# and possibly other training-only behaviors are active\n",
    "encoder.train()\n",
    "decoder.train()\n",
    "\n",
    "# and here is the training loop, in all its glory!\n",
    "for epoch in range(0, max_epochs) :\n",
    "\n",
    "  # keep track of the losses for each batch\n",
    "  batches_loss = []\n",
    "\n",
    "  # process all batches\n",
    "  for input_tensor, target_tensor in train_loader :\n",
    "\n",
    "    # pass input tensor through the encoder\n",
    "    encoder_outputs, encoder_hidden = encoder(input_tensor.to(device_name))\n",
    "\n",
    "    # pass outputs and hidden state to the encoder, along with the target tensor\n",
    "    # that, during training, will be used; we also obtain decoder_hidden, but we\n",
    "    # will not really use it\n",
    "    decoder_outputs, decoder_hidden = decoder(encoder_outputs.to(device_name), \n",
    "                                              encoder_hidden.to(device_name), \n",
    "                                              target_tensor.to(device_name))\n",
    "\n",
    "    # compute loss function\n",
    "    batch_loss = loss_function(decoder_outputs.view(-1, decoder_outputs.size(-1)), \n",
    "                               target_tensor.view(-1))\n",
    "\n",
    "    # and now, an optimization step! reset gradients on network parameters\n",
    "    optimizer.zero_grad()\n",
    "    # backward pass, updating gradients\n",
    "    batch_loss.backward()\n",
    "    # optimizer step\n",
    "    optimizer.step()\n",
    "    \n",
    "    # store loss value\n",
    "    batches_loss.append(batch_loss.detach().item())\n",
    "\n",
    "  # training loss for the epoch is the mean of the losses of each batch\n",
    "  train_loss = np.mean(batches_loss)\n",
    "\n",
    "  # TODO also compute the validation loss, using the torch.no_grad() context\n",
    "  with torch.no_grad() :\n",
    "        for input_tensor, target_tensor in validation_loader :\n",
    "            encoder_outputs, encoder_hidden = encoder(input_tensor)\n",
    "            decoder_outputs, decoder_hidden = decoder(encoder_outputs, \n",
    "                                              encoder_hidden, \n",
    "                                              target_tensor)\n",
    "            validation_loss = loss_function(decoder_outputs.view(-1, decoder_outputs.size(-1)), \n",
    "                               target_tensor.view(-1))\n",
    "            \n",
    "  # TODO also print out the validation loss\n",
    "  print(\"Epoch %d: training loss=%.6f; validation loss=%.6f\" % (epoch, train_loss, validation_loss))"
   ]
  },
  {
   "cell_type": "markdown",
   "metadata": {
    "id": "vIBVQiBptCdN"
   },
   "source": [
    "Fantastic! The loss is decreasing. Notice how each epoch takes a considerable amount of time. If you want to restart the training from the weights you obtained in the last iteration and keep going for a while more, you can just re-run the last code cell. However, if you modify some hyperparameter and would like to restart from scratch, you will have to re-run the code cell before the last one, because it sets the random seed and instantiates the networks.\n",
    "\n",
    "Now that we have the trained weights, we can finally evaluate our network! Write the code to:\n",
    "1. Select a random sentence pair.\n",
    "2. Transform the words in the input sentence into a tensor of tokens.\n",
    "3. Send the tensor through the encoder and the decoder, to get a tensor of tokens in output.\n",
    "4. Convert the tokens in the output back to words.\n",
    "5. And actually, do that in a loop with a lot of sentences, because my experience is that some of them were translated properly and other absolutely were not :-)\n",
    "\n",
    "You can write the code completely from scratch, or you can re-use the helper functions that we declared at the beginning of the notebook."
   ]
  },
  {
   "cell_type": "code",
   "execution_count": 14,
   "metadata": {
    "id": "bdpbechduBZ2"
   },
   "outputs": [
    {
     "name": "stdout",
     "output_type": "stream",
     "text": [
      "Input: \"i m sorry but you need to leave\"; Output (Ground truth): \"je suis desolee mais vous devez partir\"\n",
      "Output (prediction): \"je suis desole mais tu dois partir EOS SOS SOS\"\n",
      "\n",
      "Input: \"he s working on it\"; Output (Ground truth): \"il y travaille\"\n",
      "Output (prediction): \"il cherche actuellement a porter EOS SOS SOS SOS SOS\"\n",
      "\n",
      "Input: \"you are imagining things\"; Output (Ground truth): \"ce sont des idees que tu te fais\"\n",
      "Output (prediction): \"vous imaginez juste amis EOS SOS SOS SOS SOS SOS\"\n",
      "\n",
      "Input: \"we re very grateful for your hospitality\"; Output (Ground truth): \"nous sommes tres reconnaissants pour votre hospitalite\"\n",
      "Output (prediction): \"nous sommes tres bonnes je peux ici EOS SOS SOS\"\n",
      "\n",
      "Input: \"i m sorry i couldn t hear you\"; Output (Ground truth): \"je suis desole je ne pouvais pas t entendre\"\n",
      "Output (prediction): \"je suis desolee je ne pouvais pas t entendre EOS\"\n",
      "\n",
      "Input: \"they re just for you\"; Output (Ground truth): \"elles sont juste pour toi\"\n",
      "Output (prediction): \"ils sont juste pour vous EOS SOS SOS SOS SOS\"\n",
      "\n",
      "Input: \"we re relaxed\"; Output (Ground truth): \"nous sommes detendus\"\n",
      "Output (prediction): \"fou en vais EOS SOS SOS SOS SOS SOS SOS\"\n",
      "\n",
      "Input: \"we re all going home\"; Output (Ground truth): \"nous allons toutes chez nous\"\n",
      "Output (prediction): \"nous allons tous chez nous EOS SOS SOS SOS SOS\"\n",
      "\n",
      "Input: \"i m not in that much of a hurry\"; Output (Ground truth): \"je ne suis pas tant presse\"\n",
      "Output (prediction): \"je n en suis pas content si la dedans EOS\"\n",
      "\n",
      "Input: \"he s not very good at it\"; Output (Ground truth): \"il n y excelle pas\"\n",
      "Output (prediction): \"il n est pas tres bon a manger EOS SOS\"\n",
      "\n"
     ]
    }
   ],
   "source": [
    "number_of_test_pairs = 10\n",
    "\n",
    "encoder.eval()\n",
    "decoder.eval()\n",
    "\n",
    "for i in range(0, number_of_test_pairs) :\n",
    "  input_sentence, output_sentence = random.choice(pairs_test_set)\n",
    "  print(\"Input: \\\"%s\\\"; Output (Ground truth): \\\"%s\\\"\" % (input_sentence, output_sentence))\n",
    "\n",
    "  input_ids = indexesFromSentence(vocabulary_ENG, input_sentence)\n",
    "  output_ids = indexesFromSentence(vocabulary_FRA, output_sentence)\n",
    "\n",
    "  with torch.no_grad() :\n",
    "    input_tensor = torch.LongTensor(input_ids).to(device_name)\n",
    "    encoder_outputs, encoder_hidden = encoder(input_tensor.unsqueeze(dim=0))\n",
    "    decoder_outputs, decoder_hidden = decoder(encoder_outputs, encoder_hidden) # there is no target tensor\n",
    "    # the outputs are still floating point values, we need to change them to one-hot encoding\n",
    "    decoder_outputs_as_tokens = torch.argmax(decoder_outputs.squeeze().detach(), dim=1)\n",
    "    output_sentence_pred = [ vocabulary_FRA.index2word[t] for t in decoder_outputs_as_tokens.tolist() ]\n",
    "    print(\"Output (prediction): \\\"%s\\\"\\n\" % \" \".join(output_sentence_pred))\n"
   ]
  },
  {
   "cell_type": "code",
   "execution_count": null,
   "metadata": {},
   "outputs": [],
   "source": []
  }
 ],
 "metadata": {
  "colab": {
   "provenance": []
  },
  "kernelspec": {
   "display_name": "Python 3 (ipykernel)",
   "language": "python",
   "name": "python3"
  },
  "language_info": {
   "codemirror_mode": {
    "name": "ipython",
    "version": 3
   },
   "file_extension": ".py",
   "mimetype": "text/x-python",
   "name": "python",
   "nbconvert_exporter": "python",
   "pygments_lexer": "ipython3",
   "version": "3.10.14"
  }
 },
 "nbformat": 4,
 "nbformat_minor": 4
}
